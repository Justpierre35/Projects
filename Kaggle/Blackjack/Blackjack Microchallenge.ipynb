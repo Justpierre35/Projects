{
 "cells": [
  {
   "cell_type": "markdown",
   "metadata": {
    "_uuid": "c458c47dfa32f5d11deeed3666c6f69a153f3a21"
   },
   "source": [
    "# Intro\n",
    "\n",
    "Ready for a quick test of your logic and programming skills?\n",
    "\n",
    "In today's micro-challenge, you will write the logic for a blackjack playing program.  Our dealer will test your program by playing 50,000 hands of blackjack. You'll see how frequently your program won, and you can discuss how your approach stacks up against others in the challenge.\n",
    "\n",
    "![Blackjack](http://www.hightechgambling.com/sites/default/files/styles/large/public/casino/table_games/blackjack.jpg)"
   ]
  },
  {
   "cell_type": "markdown",
   "metadata": {
    "_cell_guid": "79c7e3d0-c299-4dcb-8224-4455121ee9b0",
    "_uuid": "d629ff2d2480ee46fbb7e2d37f6b5fab8052498a",
    "collapsed": true
   },
   "source": [
    "# Blackjack Rules\n",
    "\n",
    "We'll use a slightly simplified version of blackjack (aka twenty-one). In this version, there is one player (who you'll control) and a dealer. Play proceeds as follows:\n",
    "\n",
    "- The player is dealt two face-up cards. The dealer is dealt one face-up card.\n",
    "- The player may ask to be dealt another card ('hit') as many times as they wish. If the sum of their cards exceeds 21, they lose the round immediately.\n",
    "- The dealer then deals additional cards to himself until either:\n",
    "    - The sum of the dealer's cards exceeds 21, in which case the player wins the round, or\n",
    "    - The sum of the dealer's cards is greater than or equal to 17. If the player's total is greater than the dealer's, the player wins. Otherwise, the dealer wins (even in case of a tie).\n",
    "\n",
    "When calculating the sum of cards, Jack, Queen, and King count for 10. Aces can count as 1 or 11. (When referring to a player's \"total\" above, we mean the largest total that can be made without exceeding 21. So A+8 = 19, A+8+8 = 17.)\n",
    "\n",
    "# The Blackjack Player\n",
    "You'll write a function representing the player's decision-making strategy. Here is a simple (though unintelligent) example.\n",
    "\n",
    "**Run this code cell** so you can see simulation results below using the logic of never taking a new card."
   ]
  },
  {
   "cell_type": "code",
   "execution_count": 1,
   "metadata": {
    "_uuid": "e8c2c9a32840b7b7f26afd8a09152bca1f32eef5"
   },
   "outputs": [],
   "source": [
    "def should_hit(player_total, dealer_card_val, player_aces):\n",
    "    \"\"\"Return True if the player should hit (request another card) given the current game\n",
    "    state, or False if the player should stay. player_aces is the number of aces the player has.\n",
    "    \"\"\"\n",
    "    return False"
   ]
  },
  {
   "cell_type": "markdown",
   "metadata": {
    "_uuid": "8a46be7481de83b0f0f5d8c8a80f96708acfe673"
   },
   "source": [
    "We'll simulate games between your player agent and our own dealer agent by calling your function. So it must use the name `should_hit`."
   ]
  },
  {
   "cell_type": "markdown",
   "metadata": {
    "_uuid": "324b624d17b3a51263115128e5dd87e6be621198"
   },
   "source": [
    "# The Blackjack Simulator\n",
    "\n",
    "Run the cell below to set up our simulator environment:"
   ]
  },
  {
   "cell_type": "code",
   "execution_count": 2,
   "metadata": {
    "_uuid": "1ed70efd9e03b72c335511ffb39254cc4225b9cf"
   },
   "outputs": [
    {
     "data": {
      "application/javascript": [
       "parent.postMessage({\"jupyterEvent\": \"custom.exercise_interaction\", \"data\": {\"outcomeType\": 3, \"failureMessage\": \"Sorry, no auto-checking available for this question.\", \"exceptionClass\": \"Uncheckable\", \"trace\": \"\", \"interactionType\": 1, \"questionType\": 2, \"questionId\": \"7_BlackJackProblem\", \"learnToolsVersion\": \"0.3.4\", \"valueTowardsCompletion\": 0.0}}, \"*\")"
      ],
      "text/plain": [
       "<IPython.core.display.Javascript object>"
      ]
     },
     "metadata": {},
     "output_type": "display_data"
    },
    {
     "data": {
      "text/markdown": [
       "<span style=\"color:#cc5533\">Sorry, no auto-checking available for this question.</span>"
      ],
      "text/plain": [
       "Sorry, no auto-checking available for this question."
      ]
     },
     "metadata": {},
     "output_type": "display_data"
    },
    {
     "name": "stdout",
     "output_type": "stream",
     "text": [
      "Setup complete.\n"
     ]
    }
   ],
   "source": [
    "# SETUP. You don't need to worry for now about what this code does or how it works. \n",
    "# If you're curious about the code, it's available under an open source license at https://github.com/Kaggle/learntools/\n",
    "from learntools.core import binder; binder.bind(globals())\n",
    "from learntools.python.ex3 import q7 as blackjack\n",
    "# Returns a message \"Sorry, no auto-checking available for this question.\" (You can ignore.)\n",
    "blackjack.check()\n",
    "print('Setup complete.')"
   ]
  },
  {
   "cell_type": "markdown",
   "metadata": {
    "_uuid": "c9825893bcf078af81c583f78d7777c0fb9afb01"
   },
   "source": [
    "Once you have run the set-up code, you can see the action for a single game of blackjack with the following line:"
   ]
  },
  {
   "cell_type": "code",
   "execution_count": 3,
   "metadata": {
    "_uuid": "4fcb46a7f0a82bf7967133b00d7d555b7ab9659d"
   },
   "outputs": [
    {
     "name": "stdout",
     "output_type": "stream",
     "text": [
      "Player starts with 9 and K (total = 19)\n",
      "Dealer starts with K\n",
      "\n",
      "__Player's turn__\n",
      "Player stays\n",
      "\n",
      "__Dealer's turn__\n",
      "Dealer hits and receives 2. (total = 12)\n",
      "Dealer hits and receives Q. (total = 22)\n",
      "Dealer busts! Player wins.\n"
     ]
    }
   ],
   "source": [
    "blackjack.simulate_one_game()"
   ]
  },
  {
   "cell_type": "markdown",
   "metadata": {
    "_uuid": "7a2869469b69804cc2b4e891f283d7372a864bee"
   },
   "source": [
    "You can see how your player does in a sample of 50,000 games with the following command:"
   ]
  },
  {
   "cell_type": "code",
   "execution_count": 4,
   "metadata": {
    "_uuid": "d71071f026e25f560b549808632cfde91921c321"
   },
   "outputs": [
    {
     "name": "stdout",
     "output_type": "stream",
     "text": [
      "Player won 19063 out of 50000 games (win rate = 38.1%)\n"
     ]
    }
   ],
   "source": [
    "blackjack.simulate(n_games=50000)"
   ]
  },
  {
   "cell_type": "markdown",
   "metadata": {
    "_uuid": "af2a491582cf71693467fd9fe3d8f4de48f8e7a8"
   },
   "source": [
    "# Your Turn\n",
    "\n",
    "Write your own `should_hit` function in the cell below. Then run the cell and see how your agent did in repeated play.\n",
    "Return `True` if the player should hit (request another card) given the current game state, or `False` if the player should stay. player_aces is the number of aces the player has.\n",
    "\n",
    "<h1>First Attempt :</h1>\n",
    "\n",
    "Let's try by simply hit only if the cards received are maximum 13."
   ]
  },
  {
   "cell_type": "code",
   "execution_count": 8,
   "metadata": {
    "_uuid": "4f46c2dc095209845982a5827be50f5725329f51",
    "scrolled": true
   },
   "outputs": [
    {
     "name": "stdout",
     "output_type": "stream",
     "text": [
      "Player won 20960 out of 50000 games (win rate = 41.9%)\n"
     ]
    }
   ],
   "source": [
    "def should_hit(player_total, dealer_card_val, player_aces):\n",
    "    \n",
    "    if player_total < 14:\n",
    "        return True\n",
    "    else:\n",
    "        return False\n",
    "\n",
    "blackjack.simulate(n_games=50000)"
   ]
  },
  {
   "cell_type": "markdown",
   "metadata": {
    "_uuid": "0ef8c5091995e13270b7e35e83c8d8ab87868120"
   },
   "source": [
    "<h1>Second Attempt :</h1>\n",
    "\n",
    "following the advice of https://www.blackjackclassroom.com/blackjack-tips.\n",
    "\n",
    "return True when :\n",
    "    - Your hand value is a soft 13 or 14 and the dealer has a 5 or 6.\n",
    "    - Your hand value is a soft 15 or 16 and the dealer has a 4, 5, or 6.\n",
    "    - Your hand value is a soft 17 or 18 and the dealer has a value of 3 to 6.\n",
    "    - Your hand value is 9 and the dealer’s card value is between 2 and 8.\n",
    "    - Your hand value is 10 and the dealer’s card value is 9 or lower.\n",
    "    - Your hand value is 11 and the dealer has an Ace or a 10-value card.\n",
    "    - Also play hit if the card received are maximum 13"
   ]
  },
  {
   "cell_type": "code",
   "execution_count": 9,
   "metadata": {},
   "outputs": [
    {
     "name": "stdout",
     "output_type": "stream",
     "text": [
      "Player won 20744 out of 50000 games (win rate = 41.5%)\n"
     ]
    }
   ],
   "source": [
    "init_game = []\n",
    "\n",
    "def should_hit(player_total, dealer_card_val, player_aces):\n",
    "\n",
    "    if player_total > 12 and player_total < 15 and player_aces > 0 and dealer_card_val > 4 and dealer_card_val < 7:\n",
    "        init_game.append(1)\n",
    "        return True\n",
    "\n",
    "    elif player_total > 14 and player_total < 17 and player_aces > 0 and dealer_card_val > 3 and dealer_card_val < 7:\n",
    "        init_game.append(1)\n",
    "        return True\n",
    "\n",
    "    elif player_total > 16 and player_total < 19 and player_aces > 0 and dealer_card_val > 2 and dealer_card_val < 7:\n",
    "        init_game.append(1)\n",
    "        return True\n",
    "\n",
    "    elif player_total == 9 and dealer_card_val > 1 and dealer_card_val < 9:\n",
    "        init_game.append(1)\n",
    "        return True\n",
    "\n",
    "    elif player_total == 10 and dealer_card_val <= 9:\n",
    "        init_game.append(1)\n",
    "        return True\n",
    "\n",
    "    elif player_total == 11 and dealer_card_val > 9:\n",
    "        init_game.append(1)\n",
    "        return True\n",
    "\n",
    "    elif player_total < 14:\n",
    "        return True\n",
    "\n",
    "    else:\n",
    "        init_game.clear()\n",
    "        return False\n",
    "\n",
    "blackjack.simulate(n_games=50000)"
   ]
  },
  {
   "cell_type": "markdown",
   "metadata": {},
   "source": [
    "<h1>Third Attempt :</h1>\n",
    "\n",
    "following the advice of https://www.888casino.com/blog/blackjack-strategy/best-blackjack-strategies\n",
    "\n",
    "return True when :\n",
    "    - ALWAYS DOUBLE DOWN ON A HARD 11\n",
    "    - ALWAYS HIT A HARD 12 AGAINST A DEALER’S 2 OR 3 UPCARD\n",
    "    - ALWAYS HIT ACE-7 (SOFT 18) WHEN THE DEALER’S UPCARD IS 9, 10, OR ACE\n",
    "    - ALWAYS DOUBLE DOWN ON 10 WHEN THE DEALER’S UPCARD IS 9 OR LESS\n",
    "    - ALWAYS DOUBLE DOWN A-2 THROUGH A-7 WHEN THE DEALER’S UPCARD IS A 5 OR 6\n",
    "    - ALWAYS STAND WITH A PAIR OF 9s WHEN THE DEALER’S UPCARD IS A 7\n",
    "    - ALWAYS SURRENDER HARD 16 AGAINST A DEALER’S 9, 10, OR ACE UPCARD, AND HARD 15 AGAINST DEALER’S 10 UPCARD\n",
    "    - STAND ON HARD 16 AGAINST A DEALER’S 10 UPCARD IF YOUR 16 IS MULTI-CARD"
   ]
  },
  {
   "cell_type": "code",
   "execution_count": 72,
   "metadata": {},
   "outputs": [
    {
     "name": "stdout",
     "output_type": "stream",
     "text": [
      "Player won 19845 out of 50000 games (win rate = 39.7%)\n",
      "Player won 19913 out of 50000 games (win rate = 39.8%)\n",
      "Player won 19711 out of 50000 games (win rate = 39.4%)\n",
      "Player won 20042 out of 50000 games (win rate = 40.1%)\n",
      "Player won 19765 out of 50000 games (win rate = 39.5%)\n",
      "Player won 19810 out of 50000 games (win rate = 39.6%)\n",
      "Player won 19896 out of 50000 games (win rate = 39.8%)\n",
      "Player won 19758 out of 50000 games (win rate = 39.5%)\n",
      "Player won 19707 out of 50000 games (win rate = 39.4%)\n",
      "Player won 19816 out of 50000 games (win rate = 39.6%)\n"
     ]
    }
   ],
   "source": [
    "init_game = []\n",
    "\n",
    "def should_hit(player_total, dealer_card_val, player_aces):\n",
    "\n",
    "    if player_total >= 17 and player_total > dealer_card_val:\n",
    "        init_game.clear()\n",
    "        return False\n",
    "    \n",
    "    elif player_total == 11 and player_aces == 0:\n",
    "        init_game.clear()\n",
    "        return False\n",
    "\n",
    "    elif player_total == 12 and player_aces == 0 and len(init_game) <= 1:\n",
    "        init_game.append(1)\n",
    "        return True\n",
    "\n",
    "    elif player_total == 18 and player_aces > 0 and dealer_card_val >= 9 and dealer_card_val <= 10:\n",
    "        init_game.append(1)\n",
    "        return True\n",
    "\n",
    "    elif player_total == 10 and dealer_card_val >= 9 and dealer_card_val <= 10:\n",
    "        init_game.clear()\n",
    "        return False\n",
    "\n",
    "    elif player_total == 12 or player_total == 3 or player_total == 8 or player_total == 17 and player_aces >0 and dealer_card_val >= 5 and dealer_card_val <= 6:\n",
    "        init_game.clear()\n",
    "        return False\n",
    "\n",
    "    elif player_total == 18 and player_aces == 0 and dealer_card_val == 7:\n",
    "        init_game.clear()\n",
    "        return False\n",
    "\n",
    "    elif player_total == 16 and player_aces == 0 and dealer_card_val >= 9 and dealer_card_val <= 10:\n",
    "        init_game.clear()\n",
    "        return False\n",
    "\n",
    "    elif player_total == 16 and dealer_card_val == 10:\n",
    "        init_game.clear()\n",
    "        return False\n",
    "\n",
    "    elif player_total < 14:\n",
    "        return True\n",
    "\n",
    "    else:\n",
    "        init_game.clear()\n",
    "        return False\n",
    "\n",
    "\n",
    "i = 0\n",
    "for i in range(10):\n",
    "    blackjack.simulate(n_games=50000)"
   ]
  },
  {
   "cell_type": "markdown",
   "metadata": {},
   "source": [
    "<h1>Forth Attempt :</h1>\n",
    "\n",
    "following the advice of https://wizardofodds.com/games/blackjack/strategy/4-decks/.\n",
    "\n",
    "    - Always hit hard 11 or less.\n",
    "    - Stand on hard 12 against a dealer 4-6, otherwise hit.\n",
    "    - Stand on hard 13-16 against a dealer 2-6, otherwise hit.\n",
    "    - Always stand on hard 17 or more.\n",
    "    - Always hit soft 17 or less.\n",
    "    - Stand on soft 18 except hit against a dealer 9, 10, or A.\n",
    "    - Always stand on soft 19 or more.\n",
    "    - Surrender 15, a pair of 8s, and 17 vs. dealer A.\n",
    "    - Double 11 vs. dealer A.\n",
    "    - Double soft 18 vs. dealer 2.\n",
    "    - Double soft 19 vs. dealer 6.\n",
    "\n"
   ]
  },
  {
   "cell_type": "code",
   "execution_count": 70,
   "metadata": {},
   "outputs": [
    {
     "name": "stdout",
     "output_type": "stream",
     "text": [
      "Player won 21067 out of 50000 games (win rate = 42.1%)\n",
      "Player won 21218 out of 50000 games (win rate = 42.4%)\n",
      "Player won 20922 out of 50000 games (win rate = 41.8%)\n",
      "Player won 20966 out of 50000 games (win rate = 41.9%)\n",
      "Player won 21071 out of 50000 games (win rate = 42.1%)\n",
      "Player won 21039 out of 50000 games (win rate = 42.1%)\n",
      "Player won 20866 out of 50000 games (win rate = 41.7%)\n",
      "Player won 20788 out of 50000 games (win rate = 41.6%)\n",
      "Player won 21096 out of 50000 games (win rate = 42.2%)\n",
      "Player won 20974 out of 50000 games (win rate = 41.9%)\n"
     ]
    }
   ],
   "source": [
    "init_game = []\n",
    "\n",
    "def should_hit(player_total, dealer_card_val, player_aces):\n",
    "\n",
    "    if player_total >= 17 and player_total > dealer_card_val:\n",
    "        init_game.clear()\n",
    "        return False\n",
    "    \n",
    "    elif player_total <= 11:\n",
    "        init_game.append(1)\n",
    "        return True\n",
    "\n",
    "    elif player_total == 12 and player_aces == 0 and dealer_card_val >= 4 and dealer_card_val <= 6:\n",
    "        init_game.clear()\n",
    "        return False\n",
    "\n",
    "    elif player_total >= 13 and player_total <= 16 and player_aces == 0 and dealer_card_val >= 2 and dealer_card_val <= 6:\n",
    "        init_game.clear()\n",
    "        return False\n",
    "\n",
    "    elif player_total == 17 and player_aces == 0:\n",
    "        init_game.clear()\n",
    "        return False\n",
    "\n",
    "    elif player_total <= 17 and player_aces > 0:\n",
    "        init_game.append(1)\n",
    "        return True\n",
    "\n",
    "    elif player_total == 18 and player_aces > 0 and dealer_card_val != 9 and dealer_card_val != 10:\n",
    "        init_game.append(1)\n",
    "        return True\n",
    "    \n",
    "    elif player_total == 19 and player_aces > 0:\n",
    "        init_game.clear()\n",
    "        return False\n",
    "    \n",
    "    elif player_total >= 15 and player_total <=17 and dealer_card_val == 10:\n",
    "        init_game.clear()\n",
    "        return False\n",
    "    \n",
    "    elif player_total == 11 and player_aces > 0 and dealer_card_val == 10:\n",
    "        init_game.clear()\n",
    "        return False\n",
    "    \n",
    "    elif player_total == 18 and player_aces > 0 and dealer_card_val == 2:\n",
    "        init_game.clear()\n",
    "        return False\n",
    "\n",
    "    elif player_total == 19 and player_aces > 0 and dealer_card_val == 6:\n",
    "        init_game.clear()\n",
    "        return False\n",
    "\n",
    "    else:\n",
    "        init_game.clear()\n",
    "        return False\n",
    "\n",
    "\n",
    "i = 0\n",
    "for i in range(10):\n",
    "    blackjack.simulate(n_games=50000)"
   ]
  },
  {
   "attachments": {
    "image.png": {
     "image/png": "[encoded data removed]"
    }
   },
   "cell_type": "markdown",
   "metadata": {},
   "source": [
    "<h1>Fifth Attempt :</h1>\n",
    "\n",
    "![table_info](https://wizardofodds.com/blackjack/images/bj_4d_s17.gif)"
   ]
  },
  {
   "cell_type": "code",
   "execution_count": 69,
   "metadata": {},
   "outputs": [
    {
     "name": "stdout",
     "output_type": "stream",
     "text": [
      "Player won 20745 out of 50000 games (win rate = 41.5%)\n",
      "Player won 20580 out of 50000 games (win rate = 41.2%)\n",
      "Player won 21007 out of 50000 games (win rate = 42.0%)\n",
      "Player won 21058 out of 50000 games (win rate = 42.1%)\n",
      "Player won 20835 out of 50000 games (win rate = 41.7%)\n",
      "Player won 20906 out of 50000 games (win rate = 41.8%)\n",
      "Player won 20984 out of 50000 games (win rate = 42.0%)\n",
      "Player won 20864 out of 50000 games (win rate = 41.7%)\n",
      "Player won 21038 out of 50000 games (win rate = 42.1%)\n",
      "Player won 20914 out of 50000 games (win rate = 41.8%)\n"
     ]
    }
   ],
   "source": [
    "init_game = []\n",
    "\n",
    "def should_hit(player_total, dealer_card_val, player_aces):\n",
    "    \n",
    "\n",
    "    if player_total >= 17 and player_total > dealer_card_val:\n",
    "        init_game.clear()\n",
    "        return False\n",
    "    \n",
    "    # soft :\n",
    "    \n",
    "    elif player_total >= 13 and player_total <= 17 and player_aces > 0:\n",
    "        init_game.append(1)\n",
    "        return True\n",
    "    \n",
    "    elif player_total == 18 and player_aces > 0 and dealer_card_val >= 9:\n",
    "        init_game.append(1)\n",
    "        return True\n",
    "    \n",
    "    # Hard :\n",
    "\n",
    "    elif player_total <= 11 and player_aces == 0:\n",
    "        init_game.append(1)\n",
    "        return True\n",
    "    \n",
    "    elif player_total == 12 and player_aces == 0 and dealer_card_val <= 3:\n",
    "        init_game.append(1)\n",
    "        return True\n",
    "    \n",
    "    elif player_total >= 17 and player_aces == 0:\n",
    "        init_game.clear()\n",
    "        return False\n",
    "\n",
    "    elif player_total >= 12 and player_aces == 0 and dealer_card_val <= 6:\n",
    "        init_game.clear()\n",
    "        return False\n",
    "\n",
    "    \n",
    "    else:\n",
    "        init_game.clear()\n",
    "        return False\n",
    "\n",
    "i = 0\n",
    "for i in range(10):\n",
    "    blackjack.simulate(n_games=50000)"
   ]
  },
  {
   "cell_type": "markdown",
   "metadata": {
    "_uuid": "29af50cbbf2e28ddc6c308f4ea62faac4992ebd0"
   },
   "source": [
    "---\n",
    "This exercise is from the **[Python Course](https://www.kaggle.com/Learn/python)** on Kaggle Learn.\n",
    "\n",
    "Check out **[Kaggle Learn](https://www.kaggle.com/Learn)**  for more instruction and fun exercises."
   ]
  },
  {
   "cell_type": "code",
   "execution_count": null,
   "metadata": {},
   "outputs": [],
   "source": []
  }
 ],
 "metadata": {
  "kernelspec": {
   "display_name": "Python 3",
   "language": "python",
   "name": "python3"
  },
  "language_info": {
   "codemirror_mode": {
    "name": "ipython",
    "version": 3
   },
   "file_extension": ".py",
   "mimetype": "text/x-python",
   "name": "python",
   "nbconvert_exporter": "python",
   "pygments_lexer": "ipython3",
   "version": "3.7.6"
  }
 },
 "nbformat": 4,
 "nbformat_minor": 4
}
