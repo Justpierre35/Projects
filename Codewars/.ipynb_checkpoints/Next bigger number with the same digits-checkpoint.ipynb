{
 "cells": [
  {
   "cell_type": "markdown",
   "metadata": {},
   "source": [
    "**Create a function that takes a positive integer and returns the next bigger number that can be formed by rearranging its digits.<br>For example:**<br>\n",
    "<br>\n",
    "12 ==> 21 <br>\n",
    "513 ==> 531<br>\n",
    "2017 ==> 2071<br>\n",
    "nextBigger(num: 12)   // returns 21<br>\n",
    "nextBigger(num: 513)  // returns 531<br>\n",
    "nextBigger(num: 2017) // returns 2071<br>\n",
    "<br><br>\n",
    "**If the digits can't be rearranged to form a bigger number, return -1 (or nil in Swift):**<br>\n",
    "<br>\n",
    "9 ==> -1<br>\n",
    "111 ==> -1<br>\n",
    "531 ==> -1<br>\n",
    "nextBigger(num: 9)   // returns nil<br>\n",
    "nextBigger(num: 111) // returns nil<br>\n",
    "nextBigger(num: 531) // returns nil<br>"
   ]
  },
  {
   "cell_type": "code",
   "execution_count": null,
   "metadata": {},
   "outputs": [],
   "source": [
    "from itertools import permutations\n",
    "\n",
    "\n",
    "def next_bigger(x):\n",
    "    x = str(x)\n",
    "\n",
    "    if len(x) <= 1:\n",
    "        return -1\n",
    "\n",
    "    elif len(x) == 2:\n",
    "        z = int(x[-2::][::-1])\n",
    "        if z < int(x):\n",
    "            return -1\n",
    "        elif x[0] == x[1]:\n",
    "            return -1\n",
    "        else:\n",
    "            return z\n",
    "\n",
    "\n",
    "    elif len(x) >= 3:\n",
    "        list_nb = []\n",
    "        for i in range(1, int(len(x))):\n",
    "            start = x[-i]\n",
    "            second = x[-(i+1)]\n",
    "            if int(start) > int(second):\n",
    "                end = x[-(i+1):]\n",
    "                beg = x[:-(i+1)]\n",
    "                for p in permutations(end):\n",
    "                    if int(end) < int(''.join(p)):\n",
    "                        list_nb.append(beg+(''.join(p)))\n",
    "                break\n",
    "\n",
    "        if not bool(list_nb):\n",
    "            return -1\n",
    "\n",
    "        else:\n",
    "            return int(min(list_nb))\n",
    "\n",
    "    else:\n",
    "        return -1"
   ]
  }
 ],
 "metadata": {
  "kernelspec": {
   "display_name": "Python 3",
   "language": "python",
   "name": "python3"
  },
  "language_info": {
   "codemirror_mode": {
    "name": "ipython",
    "version": 3
   },
   "file_extension": ".py",
   "mimetype": "text/x-python",
   "name": "python",
   "nbconvert_exporter": "python",
   "pygments_lexer": "ipython3",
   "version": "3.8.4"
  }
 },
 "nbformat": 4,
 "nbformat_minor": 2
}
